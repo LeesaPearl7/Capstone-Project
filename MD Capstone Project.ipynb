{
 "cells": [
  {
   "cell_type": "code",
   "execution_count": 1,
   "id": "515c5f9e",
   "metadata": {},
   "outputs": [],
   "source": [
    "import pandas as pd\n",
    "import numpy as np\n",
    "import matplotlib.pyplot as plt"
   ]
  },
  {
   "cell_type": "markdown",
   "id": "26c9bf37",
   "metadata": {},
   "source": [
    "# Data analysis on youTube trending videos"
   ]
  },
  {
   "cell_type": "code",
   "execution_count": 2,
   "id": "2dfa2986",
   "metadata": {},
   "outputs": [
    {
     "name": "stdout",
     "output_type": "stream",
     "text": [
      "          video_id trending_date  \\\n",
      "0      kzwfHumJyYc      17.14.11   \n",
      "1      zUZ1z7FwLc8      17.14.11   \n",
      "2      10L1hZ9qa58      17.14.11   \n",
      "3      N1vE8iiEg64      17.14.11   \n",
      "4      kJzGH0PVQHQ      17.14.11   \n",
      "...            ...           ...   \n",
      "37347  iNHecA3PJCo      18.14.06   \n",
      "37348  dpPmPbhcslM      18.14.06   \n",
      "37349  mV6aztP58f8      18.14.06   \n",
      "37350  qxqDNP1bDEw      18.14.06   \n",
      "37351  wERgpPK44w0      18.14.06   \n",
      "\n",
      "                                                   title       channel_title  \\\n",
      "0      Sharry Mann: Cute Munda ( Song Teaser) | Parmi...     Lokdhun Punjabi   \n",
      "1      पीरियड्स के समय, पेट पर पति करता ऐसा, देखकर दं...             HJ NEWS   \n",
      "2      Stylish Star Allu Arjun @ ChaySam Wedding Rece...                TFPC   \n",
      "3                         Eruma Saani | Tamil vs English         Eruma Saani   \n",
      "4      why Samantha became EMOTIONAL @ Samantha naga ...          Filmylooks   \n",
      "...                                                  ...                 ...   \n",
      "37347  फेकू आशिक़ - राजस्थान की सबसे शानदार कॉमेडी | ...      RDC Rajasthani   \n",
      "37348                         Seetha | Flowers | Ep# 364          Flowers TV   \n",
      "37349  Bhramanam I Episode 87 - 12 June 2018 I Mazhav...   Mazhavil Manorama   \n",
      "37350  Nua Bohu | Full Ep 285 | 13th June 2018 | Odia...           Tarang TV   \n",
      "37351  Ee Nagaraniki Emaindi Trailer | Tharun Bhascke...  Suresh Productions   \n",
      "\n",
      "       category_id              publish_time  \\\n",
      "0                1  2017-11-12T12:20:39.000Z   \n",
      "1               25  2017-11-13T05:43:56.000Z   \n",
      "2               24  2017-11-12T15:48:08.000Z   \n",
      "3               23  2017-11-12T07:08:48.000Z   \n",
      "4               24  2017-11-13T01:14:16.000Z   \n",
      "...            ...                       ...   \n",
      "37347           23  2018-06-13T08:01:11.000Z   \n",
      "37348           24  2018-06-13T11:30:04.000Z   \n",
      "37349           24  2018-06-13T05:00:02.000Z   \n",
      "37350           24  2018-06-13T15:07:49.000Z   \n",
      "37351           24  2018-06-10T04:29:54.000Z   \n",
      "\n",
      "                                                    tags    views  likes  \\\n",
      "0      sharry mann|\"sharry mann new song\"|\"sharry man...  1096327  33966   \n",
      "1      पीरियड्स के समय|\"पेट पर पति करता ऐसा\"|\"देखकर द...   590101    735   \n",
      "2      Stylish Star Allu Arjun @ ChaySam Wedding Rece...   473988   2011   \n",
      "3      Eruma Saani|\"Tamil Comedy Videos\"|\"Films\"|\"Mov...  1242680  70353   \n",
      "4      Filmylooks|\"latest news\"|\"telugu movies\"|\"telu...   464015    492   \n",
      "...                                                  ...      ...    ...   \n",
      "37347  twinkle vaishnav comedy|\"twinkle vaishnav\"|\"tw...   214378   3291   \n",
      "37348  flowers serials|\"actress\"|\"malayalam serials\"|...   406828   1726   \n",
      "37349  mazhavil manorama|\"bhramanam full episode\"|\"gt...   386319   1216   \n",
      "37350  tarang|\"tarang tv\"|\"tarang tv online\"|\"tarang ...   130263    698   \n",
      "37351  Ee Nagaraniki Emaindi|\"Ee Nagaraniki Emaindi T...  1278249  22466   \n",
      "\n",
      "       dislikes  comment_count  \\\n",
      "0           798            882   \n",
      "1           904              0   \n",
      "2           243            149   \n",
      "3          1624           2684   \n",
      "4           293             66   \n",
      "...         ...            ...   \n",
      "37347       404            196   \n",
      "37348       478           1428   \n",
      "37349       453            697   \n",
      "37350       115             65   \n",
      "37351      1609           1205   \n",
      "\n",
      "                                       thumbnail_link  comments_disabled  \\\n",
      "0      https://i.ytimg.com/vi/kzwfHumJyYc/default.jpg              False   \n",
      "1      https://i.ytimg.com/vi/zUZ1z7FwLc8/default.jpg               True   \n",
      "2      https://i.ytimg.com/vi/10L1hZ9qa58/default.jpg              False   \n",
      "3      https://i.ytimg.com/vi/N1vE8iiEg64/default.jpg              False   \n",
      "4      https://i.ytimg.com/vi/kJzGH0PVQHQ/default.jpg              False   \n",
      "...                                               ...                ...   \n",
      "37347  https://i.ytimg.com/vi/iNHecA3PJCo/default.jpg              False   \n",
      "37348  https://i.ytimg.com/vi/dpPmPbhcslM/default.jpg              False   \n",
      "37349  https://i.ytimg.com/vi/mV6aztP58f8/default.jpg              False   \n",
      "37350  https://i.ytimg.com/vi/qxqDNP1bDEw/default.jpg              False   \n",
      "37351  https://i.ytimg.com/vi/wERgpPK44w0/default.jpg              False   \n",
      "\n",
      "       ratings_disabled  video_error_or_removed  \\\n",
      "0                 False                   False   \n",
      "1                 False                   False   \n",
      "2                 False                   False   \n",
      "3                 False                   False   \n",
      "4                 False                   False   \n",
      "...                 ...                     ...   \n",
      "37347             False                   False   \n",
      "37348             False                   False   \n",
      "37349             False                   False   \n",
      "37350             False                   False   \n",
      "37351             False                   False   \n",
      "\n",
      "                                             description  \n",
      "0      Presenting Sharry Mann latest Punjabi Song  Cu...  \n",
      "1      पीरियड्स के समय, पेट पर पति करता ऐसा, देखकर दं...  \n",
      "2      Watch Stylish Star Allu Arjun @ ChaySam Weddin...  \n",
      "3      This video showcases the difference between pe...  \n",
      "4      why Samantha became EMOTIONAL @ Samantha naga ...  \n",
      "...                                                  ...  \n",
      "37347  PRG Music & RDC Rajasthani presents फेकू आशिक़...  \n",
      "37348  Flowers - A R Rahman Show,Book your Tickets He...  \n",
      "37349  Subscribe to Mazhavil Manorama now for your da...  \n",
      "37350  Nuabohu : Story of a rustic village girl who w...  \n",
      "37351  Check out Ee Nagaraniki Emaindi Trailer #EeNag...  \n",
      "\n",
      "[37352 rows x 16 columns]\n"
     ]
    }
   ],
   "source": [
    "df=pd.read_csv(\"INvideos.csv\")\n",
    "print(df)"
   ]
  },
  {
   "cell_type": "code",
   "execution_count": 3,
   "id": "46594748",
   "metadata": {},
   "outputs": [
    {
     "data": {
      "text/plain": [
       "Index(['video_id', 'trending_date', 'title', 'channel_title', 'category_id',\n",
       "       'publish_time', 'tags', 'views', 'likes', 'dislikes', 'comment_count',\n",
       "       'thumbnail_link', 'comments_disabled', 'ratings_disabled',\n",
       "       'video_error_or_removed', 'description'],\n",
       "      dtype='object')"
      ]
     },
     "execution_count": 3,
     "metadata": {},
     "output_type": "execute_result"
    }
   ],
   "source": [
    "df.columns"
   ]
  },
  {
   "cell_type": "code",
   "execution_count": 4,
   "id": "10746f7e",
   "metadata": {},
   "outputs": [
    {
     "data": {
      "text/plain": [
       "video_id                  False\n",
       "trending_date             False\n",
       "title                     False\n",
       "channel_title             False\n",
       "category_id               False\n",
       "publish_time              False\n",
       "tags                      False\n",
       "views                     False\n",
       "likes                     False\n",
       "dislikes                  False\n",
       "comment_count             False\n",
       "thumbnail_link            False\n",
       "comments_disabled         False\n",
       "ratings_disabled          False\n",
       "video_error_or_removed    False\n",
       "description                True\n",
       "dtype: bool"
      ]
     },
     "execution_count": 4,
     "metadata": {},
     "output_type": "execute_result"
    }
   ],
   "source": [
    "df.isnull().any()"
   ]
  },
  {
   "cell_type": "code",
   "execution_count": 5,
   "id": "da494e48",
   "metadata": {},
   "outputs": [],
   "source": [
    "df[\"description\"]=df[\"description\"].fillna(value=\" \")"
   ]
  },
  {
   "cell_type": "code",
   "execution_count": 6,
   "id": "efb4703e",
   "metadata": {},
   "outputs": [
    {
     "data": {
      "text/plain": [
       "video_id                  False\n",
       "trending_date             False\n",
       "title                     False\n",
       "channel_title             False\n",
       "category_id               False\n",
       "publish_time              False\n",
       "tags                      False\n",
       "views                     False\n",
       "likes                     False\n",
       "dislikes                  False\n",
       "comment_count             False\n",
       "thumbnail_link            False\n",
       "comments_disabled         False\n",
       "ratings_disabled          False\n",
       "video_error_or_removed    False\n",
       "description               False\n",
       "dtype: bool"
      ]
     },
     "execution_count": 6,
     "metadata": {},
     "output_type": "execute_result"
    }
   ],
   "source": [
    "df.isnull().any()"
   ]
  },
  {
   "cell_type": "code",
   "execution_count": 7,
   "id": "50fccfc3",
   "metadata": {},
   "outputs": [
    {
     "name": "stdout",
     "output_type": "stream",
     "text": [
      "<class 'pandas.core.frame.DataFrame'>\n",
      "RangeIndex: 37352 entries, 0 to 37351\n",
      "Data columns (total 16 columns):\n",
      " #   Column                  Non-Null Count  Dtype \n",
      "---  ------                  --------------  ----- \n",
      " 0   video_id                37352 non-null  object\n",
      " 1   trending_date           37352 non-null  object\n",
      " 2   title                   37352 non-null  object\n",
      " 3   channel_title           37352 non-null  object\n",
      " 4   category_id             37352 non-null  int64 \n",
      " 5   publish_time            37352 non-null  object\n",
      " 6   tags                    37352 non-null  object\n",
      " 7   views                   37352 non-null  int64 \n",
      " 8   likes                   37352 non-null  int64 \n",
      " 9   dislikes                37352 non-null  int64 \n",
      " 10  comment_count           37352 non-null  int64 \n",
      " 11  thumbnail_link          37352 non-null  object\n",
      " 12  comments_disabled       37352 non-null  bool  \n",
      " 13  ratings_disabled        37352 non-null  bool  \n",
      " 14  video_error_or_removed  37352 non-null  bool  \n",
      " 15  description             37352 non-null  object\n",
      "dtypes: bool(3), int64(5), object(8)\n",
      "memory usage: 3.8+ MB\n"
     ]
    }
   ],
   "source": [
    "df.info()"
   ]
  },
  {
   "cell_type": "markdown",
   "id": "23f0c346",
   "metadata": {},
   "source": [
    "## Which year was the data collected"
   ]
  },
  {
   "cell_type": "code",
   "execution_count": 8,
   "id": "5a0b272e",
   "metadata": {},
   "outputs": [],
   "source": [
    "cdf=df[\"trending_date\"].apply(lambda x: '20' + x[:2]).value_counts().to_frame().reset_index() .rename(columns={\"index\": \"year\", \"trending_date\": \"No_of_videos\"})\n"
   ]
  },
  {
   "cell_type": "code",
   "execution_count": 9,
   "id": "8c989736",
   "metadata": {},
   "outputs": [
    {
     "name": "stdout",
     "output_type": "stream",
     "text": [
      "  No_of_videos  count\n",
      "0         2018  28293\n",
      "1         2017   9059\n"
     ]
    }
   ],
   "source": [
    "print(cdf)"
   ]
  },
  {
   "cell_type": "markdown",
   "id": "8db9cb2d",
   "metadata": {},
   "source": [
    "## Bar chart"
   ]
  },
  {
   "cell_type": "code",
   "execution_count": 10,
   "id": "a9cab1f5",
   "metadata": {},
   "outputs": [
    {
     "data": {
      "text/plain": [
       "<BarContainer object of 2 artists>"
      ]
     },
     "execution_count": 10,
     "metadata": {},
     "output_type": "execute_result"
    },
    {
     "data": {
      "image/png": "[encoded data removed]",
      "text/plain": [
       "<Figure size 640x480 with 1 Axes>"
      ]
     },
     "metadata": {},
     "output_type": "display_data"
    }
   ],
   "source": [
    "plt.bar(cdf['No_of_videos'],cdf['count'])"
   ]
  },
  {
   "cell_type": "markdown",
   "id": "e03b2563",
   "metadata": {},
   "source": [
    "## What is the percentage of videos released in that particular year?"
   ]
  },
  {
   "cell_type": "code",
   "execution_count": 11,
   "id": "5a13168d",
   "metadata": {},
   "outputs": [
    {
     "data": {
      "text/plain": [
       "trending_date\n",
       "2018    0.757469\n",
       "2017    0.242531\n",
       "Name: proportion, dtype: float64"
      ]
     },
     "execution_count": 11,
     "metadata": {},
     "output_type": "execute_result"
    }
   ],
   "source": [
    "df['trending_date'].apply(lambda x: '20' + x[:2]).value_counts(normalize=True)\n",
    "               "
   ]
  },
  {
   "cell_type": "markdown",
   "id": "1332faec",
   "metadata": {},
   "source": [
    "### Description"
   ]
  },
  {
   "cell_type": "code",
   "execution_count": 12,
   "id": "9ddde6e5",
   "metadata": {},
   "outputs": [
    {
     "data": {
      "text/html": [
       "<div>\n",
       "<style scoped>\n",
       "    .dataframe tbody tr th:only-of-type {\n",
       "        vertical-align: middle;\n",
       "    }\n",
       "\n",
       "    .dataframe tbody tr th {\n",
       "        vertical-align: top;\n",
       "    }\n",
       "\n",
       "    .dataframe thead th {\n",
       "        text-align: right;\n",
       "    }\n",
       "</style>\n",
       "<table border=\"1\" class=\"dataframe\">\n",
       "  <thead>\n",
       "    <tr style=\"text-align: right;\">\n",
       "      <th></th>\n",
       "      <th>category_id</th>\n",
       "      <th>views</th>\n",
       "      <th>likes</th>\n",
       "      <th>dislikes</th>\n",
       "      <th>comment_count</th>\n",
       "    </tr>\n",
       "  </thead>\n",
       "  <tbody>\n",
       "    <tr>\n",
       "      <th>count</th>\n",
       "      <td>37352.000000</td>\n",
       "      <td>3.735200e+04</td>\n",
       "      <td>3.735200e+04</td>\n",
       "      <td>3.735200e+04</td>\n",
       "      <td>37352.00000</td>\n",
       "    </tr>\n",
       "    <tr>\n",
       "      <th>mean</th>\n",
       "      <td>21.576596</td>\n",
       "      <td>1.060478e+06</td>\n",
       "      <td>2.708272e+04</td>\n",
       "      <td>1.665082e+03</td>\n",
       "      <td>2676.99743</td>\n",
       "    </tr>\n",
       "    <tr>\n",
       "      <th>std</th>\n",
       "      <td>6.556593</td>\n",
       "      <td>3.184932e+06</td>\n",
       "      <td>9.714510e+04</td>\n",
       "      <td>1.607617e+04</td>\n",
       "      <td>14868.31713</td>\n",
       "    </tr>\n",
       "    <tr>\n",
       "      <th>min</th>\n",
       "      <td>1.000000</td>\n",
       "      <td>4.024000e+03</td>\n",
       "      <td>0.000000e+00</td>\n",
       "      <td>0.000000e+00</td>\n",
       "      <td>0.00000</td>\n",
       "    </tr>\n",
       "    <tr>\n",
       "      <th>25%</th>\n",
       "      <td>23.000000</td>\n",
       "      <td>1.239155e+05</td>\n",
       "      <td>8.640000e+02</td>\n",
       "      <td>1.080000e+02</td>\n",
       "      <td>81.00000</td>\n",
       "    </tr>\n",
       "    <tr>\n",
       "      <th>50%</th>\n",
       "      <td>24.000000</td>\n",
       "      <td>3.045860e+05</td>\n",
       "      <td>3.069000e+03</td>\n",
       "      <td>3.260000e+02</td>\n",
       "      <td>329.00000</td>\n",
       "    </tr>\n",
       "    <tr>\n",
       "      <th>75%</th>\n",
       "      <td>24.000000</td>\n",
       "      <td>7.992912e+05</td>\n",
       "      <td>1.377425e+04</td>\n",
       "      <td>1.019250e+03</td>\n",
       "      <td>1285.00000</td>\n",
       "    </tr>\n",
       "    <tr>\n",
       "      <th>max</th>\n",
       "      <td>43.000000</td>\n",
       "      <td>1.254322e+08</td>\n",
       "      <td>2.912710e+06</td>\n",
       "      <td>1.545017e+06</td>\n",
       "      <td>827755.00000</td>\n",
       "    </tr>\n",
       "  </tbody>\n",
       "</table>\n",
       "</div>"
      ],
      "text/plain": [
       "        category_id         views         likes      dislikes  comment_count\n",
       "count  37352.000000  3.735200e+04  3.735200e+04  3.735200e+04    37352.00000\n",
       "mean      21.576596  1.060478e+06  2.708272e+04  1.665082e+03     2676.99743\n",
       "std        6.556593  3.184932e+06  9.714510e+04  1.607617e+04    14868.31713\n",
       "min        1.000000  4.024000e+03  0.000000e+00  0.000000e+00        0.00000\n",
       "25%       23.000000  1.239155e+05  8.640000e+02  1.080000e+02       81.00000\n",
       "50%       24.000000  3.045860e+05  3.069000e+03  3.260000e+02      329.00000\n",
       "75%       24.000000  7.992912e+05  1.377425e+04  1.019250e+03     1285.00000\n",
       "max       43.000000  1.254322e+08  2.912710e+06  1.545017e+06   827755.00000"
      ]
     },
     "execution_count": 12,
     "metadata": {},
     "output_type": "execute_result"
    }
   ],
   "source": [
    "df.describe()"
   ]
  },
  {
   "cell_type": "code",
   "execution_count": 13,
   "id": "0ed6b140",
   "metadata": {},
   "outputs": [
    {
     "data": {
      "text/plain": [
       "array([[<Axes: title={'center': 'views'}>]], dtype=object)"
      ]
     },
     "execution_count": 13,
     "metadata": {},
     "output_type": "execute_result"
    },
    {
     "data": {
      "image/png": "[encoded data removed]",
      "text/plain": [
       "<Figure size 640x480 with 1 Axes>"
      ]
     },
     "metadata": {},
     "output_type": "display_data"
    }
   ],
   "source": [
    "df.hist('views')"
   ]
  },
  {
   "cell_type": "markdown",
   "id": "49504120",
   "metadata": {},
   "source": [
    "## No. of videos less than 1mil views"
   ]
  },
  {
   "cell_type": "code",
   "execution_count": 14,
   "id": "6a2466ca",
   "metadata": {},
   "outputs": [
    {
     "data": {
      "text/plain": [
       "20.43264082244592"
      ]
     },
     "execution_count": 14,
     "metadata": {},
     "output_type": "execute_result"
    }
   ],
   "source": [
    "df[df['views']>1e6]['views'].count()/df['views'].count()*100"
   ]
  },
  {
   "cell_type": "code",
   "execution_count": 15,
   "id": "9c595c49",
   "metadata": {},
   "outputs": [
    {
     "data": {
      "text/plain": [
       "array([[<Axes: title={'center': 'likes'}>]], dtype=object)"
      ]
     },
     "execution_count": 15,
     "metadata": {},
     "output_type": "execute_result"
    },
    {
     "data": {
      "image/png": "[encoded data removed]",
      "text/plain": [
       "<Figure size 640x480 with 1 Axes>"
      ]
     },
     "metadata": {},
     "output_type": "display_data"
    }
   ],
   "source": [
    "df.hist('likes')"
   ]
  },
  {
   "cell_type": "markdown",
   "id": "57d23c85",
   "metadata": {},
   "source": [
    "## Percentage of videos with >50k likes\n"
   ]
  },
  {
   "cell_type": "code",
   "execution_count": 16,
   "id": "2dd093f9",
   "metadata": {},
   "outputs": [
    {
     "data": {
      "text/plain": [
       "5.9327479117584065"
      ]
     },
     "execution_count": 16,
     "metadata": {},
     "output_type": "execute_result"
    }
   ],
   "source": [
    "df[df['likes']>100000]['likes'].count()/df['likes'].count()*100"
   ]
  },
  {
   "cell_type": "code",
   "execution_count": 17,
   "id": "6079c856",
   "metadata": {
    "scrolled": true
   },
   "outputs": [
    {
     "data": {
      "text/plain": [
       "array([[<Axes: title={'center': 'comment_count'}>]], dtype=object)"
      ]
     },
     "execution_count": 17,
     "metadata": {},
     "output_type": "execute_result"
    },
    {
     "data": {
      "image/png": "[encoded data removed]",
      "text/plain": [
       "<Figure size 640x480 with 1 Axes>"
      ]
     },
     "metadata": {},
     "output_type": "display_data"
    }
   ],
   "source": [
    "df.hist('comment_count')"
   ]
  },
  {
   "cell_type": "markdown",
   "id": "a0307c29",
   "metadata": {},
   "source": [
    "## Percentage of videos with <1k comments\n"
   ]
  },
  {
   "cell_type": "code",
   "execution_count": 18,
   "id": "52fd01a8",
   "metadata": {},
   "outputs": [
    {
     "data": {
      "text/plain": [
       "70.71910473334762"
      ]
     },
     "execution_count": 18,
     "metadata": {},
     "output_type": "execute_result"
    }
   ],
   "source": [
    "df[df['comment_count']<1000]['comment_count'].count()/df['comment_count'].count()*100"
   ]
  },
  {
   "cell_type": "markdown",
   "id": "d0cfec83",
   "metadata": {},
   "source": [
    "## Description of non numerical columns"
   ]
  },
  {
   "cell_type": "code",
   "execution_count": 19,
   "id": "d33ac179",
   "metadata": {},
   "outputs": [
    {
     "data": {
      "text/html": [
       "<div>\n",
       "<style scoped>\n",
       "    .dataframe tbody tr th:only-of-type {\n",
       "        vertical-align: middle;\n",
       "    }\n",
       "\n",
       "    .dataframe tbody tr th {\n",
       "        vertical-align: top;\n",
       "    }\n",
       "\n",
       "    .dataframe thead th {\n",
       "        text-align: right;\n",
       "    }\n",
       "</style>\n",
       "<table border=\"1\" class=\"dataframe\">\n",
       "  <thead>\n",
       "    <tr style=\"text-align: right;\">\n",
       "      <th></th>\n",
       "      <th>video_id</th>\n",
       "      <th>trending_date</th>\n",
       "      <th>title</th>\n",
       "      <th>channel_title</th>\n",
       "      <th>publish_time</th>\n",
       "      <th>tags</th>\n",
       "      <th>thumbnail_link</th>\n",
       "      <th>description</th>\n",
       "    </tr>\n",
       "  </thead>\n",
       "  <tbody>\n",
       "    <tr>\n",
       "      <th>count</th>\n",
       "      <td>37352</td>\n",
       "      <td>37352</td>\n",
       "      <td>37352</td>\n",
       "      <td>37352</td>\n",
       "      <td>37352</td>\n",
       "      <td>37352</td>\n",
       "      <td>37352</td>\n",
       "      <td>37352</td>\n",
       "    </tr>\n",
       "    <tr>\n",
       "      <th>unique</th>\n",
       "      <td>16307</td>\n",
       "      <td>205</td>\n",
       "      <td>16721</td>\n",
       "      <td>1426</td>\n",
       "      <td>16339</td>\n",
       "      <td>12578</td>\n",
       "      <td>16523</td>\n",
       "      <td>13993</td>\n",
       "    </tr>\n",
       "    <tr>\n",
       "      <th>top</th>\n",
       "      <td>#NAME?</td>\n",
       "      <td>17.14.11</td>\n",
       "      <td>Mission: Impossible - Fallout (2018) - Officia...</td>\n",
       "      <td>VikatanTV</td>\n",
       "      <td>2018-04-21T13:30:01.000Z</td>\n",
       "      <td>[none]</td>\n",
       "      <td>https://i.ytimg.com/vi/rRr1qiJRsXk/default.jpg</td>\n",
       "      <td></td>\n",
       "    </tr>\n",
       "    <tr>\n",
       "      <th>freq</th>\n",
       "      <td>511</td>\n",
       "      <td>200</td>\n",
       "      <td>19</td>\n",
       "      <td>284</td>\n",
       "      <td>18</td>\n",
       "      <td>1381</td>\n",
       "      <td>16</td>\n",
       "      <td>561</td>\n",
       "    </tr>\n",
       "  </tbody>\n",
       "</table>\n",
       "</div>"
      ],
      "text/plain": [
       "       video_id trending_date  \\\n",
       "count     37352         37352   \n",
       "unique    16307           205   \n",
       "top      #NAME?      17.14.11   \n",
       "freq        511           200   \n",
       "\n",
       "                                                    title channel_title  \\\n",
       "count                                               37352         37352   \n",
       "unique                                              16721          1426   \n",
       "top     Mission: Impossible - Fallout (2018) - Officia...     VikatanTV   \n",
       "freq                                                   19           284   \n",
       "\n",
       "                    publish_time    tags  \\\n",
       "count                      37352   37352   \n",
       "unique                     16339   12578   \n",
       "top     2018-04-21T13:30:01.000Z  [none]   \n",
       "freq                          18    1381   \n",
       "\n",
       "                                        thumbnail_link description  \n",
       "count                                            37352       37352  \n",
       "unique                                           16523       13993  \n",
       "top     https://i.ytimg.com/vi/rRr1qiJRsXk/default.jpg              \n",
       "freq                                                16         561  "
      ]
     },
     "execution_count": 19,
     "metadata": {},
     "output_type": "execute_result"
    }
   ],
   "source": [
    "df.describe(include='O')\n",
    "\n"
   ]
  },
  {
   "cell_type": "markdown",
   "id": "0bf6282a",
   "metadata": {},
   "source": [
    "## Calculate the length"
   ]
  },
  {
   "cell_type": "code",
   "execution_count": 20,
   "id": "63f285b8",
   "metadata": {},
   "outputs": [],
   "source": [
    "df['title_lenght']=df['title'].apply(lambda x: len(x))"
   ]
  },
  {
   "cell_type": "code",
   "execution_count": 21,
   "id": "271ec650",
   "metadata": {},
   "outputs": [
    {
     "data": {
      "text/html": [
       "<div>\n",
       "<style scoped>\n",
       "    .dataframe tbody tr th:only-of-type {\n",
       "        vertical-align: middle;\n",
       "    }\n",
       "\n",
       "    .dataframe tbody tr th {\n",
       "        vertical-align: top;\n",
       "    }\n",
       "\n",
       "    .dataframe thead th {\n",
       "        text-align: right;\n",
       "    }\n",
       "</style>\n",
       "<table border=\"1\" class=\"dataframe\">\n",
       "  <thead>\n",
       "    <tr style=\"text-align: right;\">\n",
       "      <th></th>\n",
       "      <th>video_id</th>\n",
       "      <th>trending_date</th>\n",
       "      <th>title</th>\n",
       "      <th>channel_title</th>\n",
       "      <th>category_id</th>\n",
       "      <th>publish_time</th>\n",
       "      <th>tags</th>\n",
       "      <th>views</th>\n",
       "      <th>likes</th>\n",
       "      <th>dislikes</th>\n",
       "      <th>comment_count</th>\n",
       "      <th>thumbnail_link</th>\n",
       "      <th>comments_disabled</th>\n",
       "      <th>ratings_disabled</th>\n",
       "      <th>video_error_or_removed</th>\n",
       "      <th>description</th>\n",
       "      <th>title_lenght</th>\n",
       "    </tr>\n",
       "  </thead>\n",
       "  <tbody>\n",
       "    <tr>\n",
       "      <th>0</th>\n",
       "      <td>kzwfHumJyYc</td>\n",
       "      <td>17.14.11</td>\n",
       "      <td>Sharry Mann: Cute Munda ( Song Teaser) | Parmi...</td>\n",
       "      <td>Lokdhun Punjabi</td>\n",
       "      <td>1</td>\n",
       "      <td>2017-11-12T12:20:39.000Z</td>\n",
       "      <td>sharry mann|\"sharry mann new song\"|\"sharry man...</td>\n",
       "      <td>1096327</td>\n",
       "      <td>33966</td>\n",
       "      <td>798</td>\n",
       "      <td>882</td>\n",
       "      <td>https://i.ytimg.com/vi/kzwfHumJyYc/default.jpg</td>\n",
       "      <td>False</td>\n",
       "      <td>False</td>\n",
       "      <td>False</td>\n",
       "      <td>Presenting Sharry Mann latest Punjabi Song  Cu...</td>\n",
       "      <td>81</td>\n",
       "    </tr>\n",
       "    <tr>\n",
       "      <th>1</th>\n",
       "      <td>zUZ1z7FwLc8</td>\n",
       "      <td>17.14.11</td>\n",
       "      <td>पीरियड्स के समय, पेट पर पति करता ऐसा, देखकर दं...</td>\n",
       "      <td>HJ NEWS</td>\n",
       "      <td>25</td>\n",
       "      <td>2017-11-13T05:43:56.000Z</td>\n",
       "      <td>पीरियड्स के समय|\"पेट पर पति करता ऐसा\"|\"देखकर द...</td>\n",
       "      <td>590101</td>\n",
       "      <td>735</td>\n",
       "      <td>904</td>\n",
       "      <td>0</td>\n",
       "      <td>https://i.ytimg.com/vi/zUZ1z7FwLc8/default.jpg</td>\n",
       "      <td>True</td>\n",
       "      <td>False</td>\n",
       "      <td>False</td>\n",
       "      <td>पीरियड्स के समय, पेट पर पति करता ऐसा, देखकर दं...</td>\n",
       "      <td>58</td>\n",
       "    </tr>\n",
       "    <tr>\n",
       "      <th>2</th>\n",
       "      <td>10L1hZ9qa58</td>\n",
       "      <td>17.14.11</td>\n",
       "      <td>Stylish Star Allu Arjun @ ChaySam Wedding Rece...</td>\n",
       "      <td>TFPC</td>\n",
       "      <td>24</td>\n",
       "      <td>2017-11-12T15:48:08.000Z</td>\n",
       "      <td>Stylish Star Allu Arjun @ ChaySam Wedding Rece...</td>\n",
       "      <td>473988</td>\n",
       "      <td>2011</td>\n",
       "      <td>243</td>\n",
       "      <td>149</td>\n",
       "      <td>https://i.ytimg.com/vi/10L1hZ9qa58/default.jpg</td>\n",
       "      <td>False</td>\n",
       "      <td>False</td>\n",
       "      <td>False</td>\n",
       "      <td>Watch Stylish Star Allu Arjun @ ChaySam Weddin...</td>\n",
       "      <td>58</td>\n",
       "    </tr>\n",
       "    <tr>\n",
       "      <th>3</th>\n",
       "      <td>N1vE8iiEg64</td>\n",
       "      <td>17.14.11</td>\n",
       "      <td>Eruma Saani | Tamil vs English</td>\n",
       "      <td>Eruma Saani</td>\n",
       "      <td>23</td>\n",
       "      <td>2017-11-12T07:08:48.000Z</td>\n",
       "      <td>Eruma Saani|\"Tamil Comedy Videos\"|\"Films\"|\"Mov...</td>\n",
       "      <td>1242680</td>\n",
       "      <td>70353</td>\n",
       "      <td>1624</td>\n",
       "      <td>2684</td>\n",
       "      <td>https://i.ytimg.com/vi/N1vE8iiEg64/default.jpg</td>\n",
       "      <td>False</td>\n",
       "      <td>False</td>\n",
       "      <td>False</td>\n",
       "      <td>This video showcases the difference between pe...</td>\n",
       "      <td>30</td>\n",
       "    </tr>\n",
       "    <tr>\n",
       "      <th>4</th>\n",
       "      <td>kJzGH0PVQHQ</td>\n",
       "      <td>17.14.11</td>\n",
       "      <td>why Samantha became EMOTIONAL @ Samantha naga ...</td>\n",
       "      <td>Filmylooks</td>\n",
       "      <td>24</td>\n",
       "      <td>2017-11-13T01:14:16.000Z</td>\n",
       "      <td>Filmylooks|\"latest news\"|\"telugu movies\"|\"telu...</td>\n",
       "      <td>464015</td>\n",
       "      <td>492</td>\n",
       "      <td>293</td>\n",
       "      <td>66</td>\n",
       "      <td>https://i.ytimg.com/vi/kJzGH0PVQHQ/default.jpg</td>\n",
       "      <td>False</td>\n",
       "      <td>False</td>\n",
       "      <td>False</td>\n",
       "      <td>why Samantha became EMOTIONAL @ Samantha naga ...</td>\n",
       "      <td>88</td>\n",
       "    </tr>\n",
       "  </tbody>\n",
       "</table>\n",
       "</div>"
      ],
      "text/plain": [
       "      video_id trending_date  \\\n",
       "0  kzwfHumJyYc      17.14.11   \n",
       "1  zUZ1z7FwLc8      17.14.11   \n",
       "2  10L1hZ9qa58      17.14.11   \n",
       "3  N1vE8iiEg64      17.14.11   \n",
       "4  kJzGH0PVQHQ      17.14.11   \n",
       "\n",
       "                                               title    channel_title  \\\n",
       "0  Sharry Mann: Cute Munda ( Song Teaser) | Parmi...  Lokdhun Punjabi   \n",
       "1  पीरियड्स के समय, पेट पर पति करता ऐसा, देखकर दं...          HJ NEWS   \n",
       "2  Stylish Star Allu Arjun @ ChaySam Wedding Rece...             TFPC   \n",
       "3                     Eruma Saani | Tamil vs English      Eruma Saani   \n",
       "4  why Samantha became EMOTIONAL @ Samantha naga ...       Filmylooks   \n",
       "\n",
       "   category_id              publish_time  \\\n",
       "0            1  2017-11-12T12:20:39.000Z   \n",
       "1           25  2017-11-13T05:43:56.000Z   \n",
       "2           24  2017-11-12T15:48:08.000Z   \n",
       "3           23  2017-11-12T07:08:48.000Z   \n",
       "4           24  2017-11-13T01:14:16.000Z   \n",
       "\n",
       "                                                tags    views  likes  \\\n",
       "0  sharry mann|\"sharry mann new song\"|\"sharry man...  1096327  33966   \n",
       "1  पीरियड्स के समय|\"पेट पर पति करता ऐसा\"|\"देखकर द...   590101    735   \n",
       "2  Stylish Star Allu Arjun @ ChaySam Wedding Rece...   473988   2011   \n",
       "3  Eruma Saani|\"Tamil Comedy Videos\"|\"Films\"|\"Mov...  1242680  70353   \n",
       "4  Filmylooks|\"latest news\"|\"telugu movies\"|\"telu...   464015    492   \n",
       "\n",
       "   dislikes  comment_count                                  thumbnail_link  \\\n",
       "0       798            882  https://i.ytimg.com/vi/kzwfHumJyYc/default.jpg   \n",
       "1       904              0  https://i.ytimg.com/vi/zUZ1z7FwLc8/default.jpg   \n",
       "2       243            149  https://i.ytimg.com/vi/10L1hZ9qa58/default.jpg   \n",
       "3      1624           2684  https://i.ytimg.com/vi/N1vE8iiEg64/default.jpg   \n",
       "4       293             66  https://i.ytimg.com/vi/kJzGH0PVQHQ/default.jpg   \n",
       "\n",
       "   comments_disabled  ratings_disabled  video_error_or_removed  \\\n",
       "0              False             False                   False   \n",
       "1               True             False                   False   \n",
       "2              False             False                   False   \n",
       "3              False             False                   False   \n",
       "4              False             False                   False   \n",
       "\n",
       "                                         description  title_lenght  \n",
       "0  Presenting Sharry Mann latest Punjabi Song  Cu...            81  \n",
       "1  पीरियड्स के समय, पेट पर पति करता ऐसा, देखकर दं...            58  \n",
       "2  Watch Stylish Star Allu Arjun @ ChaySam Weddin...            58  \n",
       "3  This video showcases the difference between pe...            30  \n",
       "4  why Samantha became EMOTIONAL @ Samantha naga ...            88  "
      ]
     },
     "execution_count": 21,
     "metadata": {},
     "output_type": "execute_result"
    }
   ],
   "source": [
    "df.head(5)"
   ]
  },
  {
   "cell_type": "code",
   "execution_count": 22,
   "id": "55579912",
   "metadata": {},
   "outputs": [
    {
     "data": {
      "text/plain": [
       "<Axes: >"
      ]
     },
     "execution_count": 22,
     "metadata": {},
     "output_type": "execute_result"
    },
    {
     "data": {
      "image/png": "[encoded data removed]",
      "text/plain": [
       "<Figure size 640x480 with 1 Axes>"
      ]
     },
     "metadata": {},
     "output_type": "display_data"
    }
   ],
   "source": [
    "df.boxplot('title_lenght')"
   ]
  },
  {
   "cell_type": "markdown",
   "id": "debff968",
   "metadata": {},
   "source": [
    "## Relation between title lenght and the no. of views"
   ]
  },
  {
   "cell_type": "code",
   "execution_count": 23,
   "id": "b345f6e4",
   "metadata": {},
   "outputs": [
    {
     "data": {
      "text/plain": [
       "<matplotlib.collections.PathCollection at 0x2a2a21a5910>"
      ]
     },
     "execution_count": 23,
     "metadata": {},
     "output_type": "execute_result"
    },
    {
     "data": {
      "image/png": "[encoded data removed]",
      "text/plain": [
       "<Figure size 640x480 with 1 Axes>"
      ]
     },
     "metadata": {},
     "output_type": "display_data"
    }
   ],
   "source": [
    "plt.scatter(df['title_lenght'],df['views'])\n",
    "\n"
   ]
  },
  {
   "cell_type": "markdown",
   "id": "4c1d454d",
   "metadata": {},
   "source": [
    "## Grouping of data based on category ID"
   ]
  },
  {
   "cell_type": "code",
   "execution_count": 24,
   "id": "beb320a5",
   "metadata": {},
   "outputs": [
    {
     "data": {
      "text/html": [
       "<div>\n",
       "<style scoped>\n",
       "    .dataframe tbody tr th:only-of-type {\n",
       "        vertical-align: middle;\n",
       "    }\n",
       "\n",
       "    .dataframe tbody tr th {\n",
       "        vertical-align: top;\n",
       "    }\n",
       "\n",
       "    .dataframe thead th {\n",
       "        text-align: right;\n",
       "    }\n",
       "</style>\n",
       "<table border=\"1\" class=\"dataframe\">\n",
       "  <thead>\n",
       "    <tr style=\"text-align: right;\">\n",
       "      <th></th>\n",
       "      <th>trending_date</th>\n",
       "      <th>title</th>\n",
       "      <th>channel_title</th>\n",
       "      <th>category_id</th>\n",
       "      <th>publish_time</th>\n",
       "      <th>tags</th>\n",
       "      <th>views</th>\n",
       "      <th>likes</th>\n",
       "      <th>dislikes</th>\n",
       "      <th>comment_count</th>\n",
       "      <th>thumbnail_link</th>\n",
       "      <th>comments_disabled</th>\n",
       "      <th>ratings_disabled</th>\n",
       "      <th>video_error_or_removed</th>\n",
       "      <th>description</th>\n",
       "      <th>title_lenght</th>\n",
       "    </tr>\n",
       "    <tr>\n",
       "      <th>video_id</th>\n",
       "      <th></th>\n",
       "      <th></th>\n",
       "      <th></th>\n",
       "      <th></th>\n",
       "      <th></th>\n",
       "      <th></th>\n",
       "      <th></th>\n",
       "      <th></th>\n",
       "      <th></th>\n",
       "      <th></th>\n",
       "      <th></th>\n",
       "      <th></th>\n",
       "      <th></th>\n",
       "      <th></th>\n",
       "      <th></th>\n",
       "      <th></th>\n",
       "    </tr>\n",
       "  </thead>\n",
       "  <tbody>\n",
       "    <tr>\n",
       "      <th>#NAME?</th>\n",
       "      <td>17.14.1117.14.1117.14.1117.15.1117.15.1117.16....</td>\n",
       "      <td>స‌మంత కంట‌త‌డి | Samantha became EMOTIONAL @ S...</td>\n",
       "      <td>Friday PosterJansattaHealth Tips for YouAstroM...</td>\n",
       "      <td>10976</td>\n",
       "      <td>2017-11-13T08:59:27.000Z2017-11-11T09:09:06.00...</td>\n",
       "      <td>స‌మంత కంట‌త‌డి|\"Samantha became EMOTIONAL @ Sa...</td>\n",
       "      <td>765625280</td>\n",
       "      <td>17514793</td>\n",
       "      <td>790773</td>\n",
       "      <td>1350883</td>\n",
       "      <td>https://i.ytimg.com/vi/-b0ww7L2MGU/default.jpg...</td>\n",
       "      <td>20</td>\n",
       "      <td>19</td>\n",
       "      <td>0</td>\n",
       "      <td>స‌మంత కంట‌త‌డి | Samantha became EMOTIONAL @ S...</td>\n",
       "      <td>37331</td>\n",
       "    </tr>\n",
       "    <tr>\n",
       "      <th>#VALUE!</th>\n",
       "      <td>18.09.0318.10.0318.11.0318.12.0318.19.0318.20....</td>\n",
       "      <td>ऐसे झूठ जिनको देख कर आप तुरंत विश्वास कर लेते ...</td>\n",
       "      <td>RahasyaRahasyaRahasyaRahasyaRajshri MarathiRaj...</td>\n",
       "      <td>180</td>\n",
       "      <td>2018-03-08T07:03:27.000Z2018-03-08T07:03:27.00...</td>\n",
       "      <td>myth|\"facts\"|\"top interesting facts\"|\"most int...</td>\n",
       "      <td>1176951</td>\n",
       "      <td>41991</td>\n",
       "      <td>1565</td>\n",
       "      <td>2946</td>\n",
       "      <td>https://i.ytimg.com/vi/-L2-A0Saw30/default.jpg...</td>\n",
       "      <td>0</td>\n",
       "      <td>0</td>\n",
       "      <td>0</td>\n",
       "      <td>FOLLOW US ON FACEBOOK : https://goo.gl/UhDWrn\\...</td>\n",
       "      <td>636</td>\n",
       "    </tr>\n",
       "    <tr>\n",
       "      <th>-0N9r10xb_0</th>\n",
       "      <td>17.19.1117.20.11</td>\n",
       "      <td>19 नवंबर शनि अमावस्या के अगले दिन बड़ा रविवार ब...</td>\n",
       "      <td>Magical NuskheMagical Nuskhe</td>\n",
       "      <td>52</td>\n",
       "      <td>2017-11-18T14:20:54.000Z2017-11-18T14:20:54.000Z</td>\n",
       "      <td>19 नवंबर शनि अमावस्या के अगले दिन बड़ा रविवार ब...</td>\n",
       "      <td>204502</td>\n",
       "      <td>2442</td>\n",
       "      <td>330</td>\n",
       "      <td>55</td>\n",
       "      <td>https://i.ytimg.com/vi/-0N9r10xb_0/default.jpg...</td>\n",
       "      <td>0</td>\n",
       "      <td>0</td>\n",
       "      <td>0</td>\n",
       "      <td>19 नवंबर शनि अमावस्या के अगले दिन बड़ा रविवार ब...</td>\n",
       "      <td>200</td>\n",
       "    </tr>\n",
       "    <tr>\n",
       "      <th>-0WuM6ctLHg</th>\n",
       "      <td>18.11.0218.12.0218.13.02</td>\n",
       "      <td>மிரளவைக்கும் 5 நம்பமுடியாத கண்டுபிடிப்புகள் | ...</td>\n",
       "      <td>Kollywood TalkKollywood TalkKollywood Talk</td>\n",
       "      <td>66</td>\n",
       "      <td>2018-02-10T08:07:15.000Z2018-02-10T08:07:15.00...</td>\n",
       "      <td>amazing invention|\"amazing bike in the world\"|...</td>\n",
       "      <td>823461</td>\n",
       "      <td>11040</td>\n",
       "      <td>417</td>\n",
       "      <td>272</td>\n",
       "      <td>https://i.ytimg.com/vi/-0WuM6ctLHg/default.jpg...</td>\n",
       "      <td>0</td>\n",
       "      <td>0</td>\n",
       "      <td>0</td>\n",
       "      <td>மிரளவைக்கும் 5 நம்பமுடியாத கண்டுபிடிப்புகள் | ...</td>\n",
       "      <td>267</td>\n",
       "    </tr>\n",
       "    <tr>\n",
       "      <th>-0mcgX4ro7I</th>\n",
       "      <td>18.16.0318.17.03</td>\n",
       "      <td>Bhabi Ji Ghar Par Hain - भाबीजी घर पर हैं - Ep...</td>\n",
       "      <td>And TVAnd TV</td>\n",
       "      <td>48</td>\n",
       "      <td>2018-03-15T00:28:23.000Z2018-03-15T00:28:23.000Z</td>\n",
       "      <td>and tv|\"&amp;TV\"|\"Bhabhiji Ghar Par Hain\"|\"full ep...</td>\n",
       "      <td>434095</td>\n",
       "      <td>2152</td>\n",
       "      <td>236</td>\n",
       "      <td>139</td>\n",
       "      <td>https://i.ytimg.com/vi/-0mcgX4ro7I/default.jpg...</td>\n",
       "      <td>0</td>\n",
       "      <td>0</td>\n",
       "      <td>0</td>\n",
       "      <td>To watch FULL episode of Bhabi Ji Ghar Par Hai...</td>\n",
       "      <td>168</td>\n",
       "    </tr>\n",
       "    <tr>\n",
       "      <th>...</th>\n",
       "      <td>...</td>\n",
       "      <td>...</td>\n",
       "      <td>...</td>\n",
       "      <td>...</td>\n",
       "      <td>...</td>\n",
       "      <td>...</td>\n",
       "      <td>...</td>\n",
       "      <td>...</td>\n",
       "      <td>...</td>\n",
       "      <td>...</td>\n",
       "      <td>...</td>\n",
       "      <td>...</td>\n",
       "      <td>...</td>\n",
       "      <td>...</td>\n",
       "      <td>...</td>\n",
       "      <td>...</td>\n",
       "    </tr>\n",
       "    <tr>\n",
       "      <th>zykZhNk7BNQ</th>\n",
       "      <td>18.15.02</td>\n",
       "      <td>आज है अमावस्या ।। यह टोटका करते ही शत्रु बर्बा...</td>\n",
       "      <td>Om Namoh Narayan</td>\n",
       "      <td>26</td>\n",
       "      <td>2018-02-15T03:38:56.000Z</td>\n",
       "      <td>Vashikaran|\"Photo se Vashikaran\"|\"Naam Se Vash...</td>\n",
       "      <td>11876</td>\n",
       "      <td>334</td>\n",
       "      <td>27</td>\n",
       "      <td>0</td>\n",
       "      <td>https://i.ytimg.com/vi/zykZhNk7BNQ/default.jpg</td>\n",
       "      <td>1</td>\n",
       "      <td>0</td>\n",
       "      <td>0</td>\n",
       "      <td>आज है अमावस्या ।। यह टोटका करते ही शत्रु बर्बा...</td>\n",
       "      <td>96</td>\n",
       "    </tr>\n",
       "    <tr>\n",
       "      <th>zys43i_RKHM</th>\n",
       "      <td>18.31.0518.01.06</td>\n",
       "      <td>Mogalirekulu | 31st May 2018 | Gemini TVMogali...</td>\n",
       "      <td>Gemini TVGemini TV</td>\n",
       "      <td>48</td>\n",
       "      <td>2018-05-31T13:08:26.000Z2018-05-31T13:08:26.000Z</td>\n",
       "      <td>Gemini TV|\"Reality Show\"|\"Telugu Serials\"|\"Tel...</td>\n",
       "      <td>160420</td>\n",
       "      <td>1627</td>\n",
       "      <td>122</td>\n",
       "      <td>217</td>\n",
       "      <td>https://i.ytimg.com/vi/zys43i_RKHM/default.jpg...</td>\n",
       "      <td>0</td>\n",
       "      <td>0</td>\n",
       "      <td>0</td>\n",
       "      <td>Mogalirekulu is a family drama show. The story...</td>\n",
       "      <td>80</td>\n",
       "    </tr>\n",
       "    <tr>\n",
       "      <th>zyvYkpoLeSU</th>\n",
       "      <td>18.29.0118.30.0118.31.01</td>\n",
       "      <td>Bigg Boss 5 Kannada Winner | Kannada Big Boss ...</td>\n",
       "      <td>Namma KFINamma KFINamma KFI</td>\n",
       "      <td>72</td>\n",
       "      <td>2018-01-28T17:59:20.000Z2018-01-28T17:59:20.00...</td>\n",
       "      <td>chandan shetty big boss songs|\"bigg boss kanna...</td>\n",
       "      <td>124966</td>\n",
       "      <td>649</td>\n",
       "      <td>105</td>\n",
       "      <td>80</td>\n",
       "      <td>https://i.ytimg.com/vi/zyvYkpoLeSU/default.jpg...</td>\n",
       "      <td>0</td>\n",
       "      <td>0</td>\n",
       "      <td>0</td>\n",
       "      <td>Bigg Boss 5 Kannada Winner Kannada Big Boss Wi...</td>\n",
       "      <td>270</td>\n",
       "    </tr>\n",
       "    <tr>\n",
       "      <th>zz6Nqy4SM3E</th>\n",
       "      <td>18.17.0418.18.04</td>\n",
       "      <td>Funny College Scenes ft. Pichi Yakuu | Waranga...</td>\n",
       "      <td>Warangal DiariesWarangal Diaries</td>\n",
       "      <td>46</td>\n",
       "      <td>2018-04-16T08:03:55.000Z2018-04-16T08:03:55.000Z</td>\n",
       "      <td>warangal diaries|\"latest\"|\"funny\"|\"comedy\"|\"Ba...</td>\n",
       "      <td>261881</td>\n",
       "      <td>16575</td>\n",
       "      <td>489</td>\n",
       "      <td>2924</td>\n",
       "      <td>https://i.ytimg.com/vi/zz6Nqy4SM3E/default.jpg...</td>\n",
       "      <td>0</td>\n",
       "      <td>0</td>\n",
       "      <td>0</td>\n",
       "      <td>(Earphone Use Is Recommended)!!\\nTypes And Kin...</td>\n",
       "      <td>110</td>\n",
       "    </tr>\n",
       "    <tr>\n",
       "      <th>zzcAq02ncAE</th>\n",
       "      <td>18.02.05</td>\n",
       "      <td>ANT-MAN AND THE WASP Trailer # 2 TEASER (NEW 2...</td>\n",
       "      <td>ONE Media</td>\n",
       "      <td>1</td>\n",
       "      <td>2018-04-30T22:25:33.000Z</td>\n",
       "      <td>Cinema|\"Trailer\"|\"Official\"|\"Movie\"|\"Film\"|\"An...</td>\n",
       "      <td>1089236</td>\n",
       "      <td>9928</td>\n",
       "      <td>416</td>\n",
       "      <td>577</td>\n",
       "      <td>https://i.ytimg.com/vi/zzcAq02ncAE/default.jpg</td>\n",
       "      <td>0</td>\n",
       "      <td>0</td>\n",
       "      <td>0</td>\n",
       "      <td>ANT-MAN AND THE WASP Trailer # 2 TEASER (NEW 2...</td>\n",
       "      <td>79</td>\n",
       "    </tr>\n",
       "  </tbody>\n",
       "</table>\n",
       "<p>16307 rows × 16 columns</p>\n",
       "</div>"
      ],
      "text/plain": [
       "                                                 trending_date  \\\n",
       "video_id                                                         \n",
       "#NAME?       17.14.1117.14.1117.14.1117.15.1117.15.1117.16....   \n",
       "#VALUE!      18.09.0318.10.0318.11.0318.12.0318.19.0318.20....   \n",
       "-0N9r10xb_0                                   17.19.1117.20.11   \n",
       "-0WuM6ctLHg                           18.11.0218.12.0218.13.02   \n",
       "-0mcgX4ro7I                                   18.16.0318.17.03   \n",
       "...                                                        ...   \n",
       "zykZhNk7BNQ                                           18.15.02   \n",
       "zys43i_RKHM                                   18.31.0518.01.06   \n",
       "zyvYkpoLeSU                           18.29.0118.30.0118.31.01   \n",
       "zz6Nqy4SM3E                                   18.17.0418.18.04   \n",
       "zzcAq02ncAE                                           18.02.05   \n",
       "\n",
       "                                                         title  \\\n",
       "video_id                                                         \n",
       "#NAME?       స‌మంత కంట‌త‌డి | Samantha became EMOTIONAL @ S...   \n",
       "#VALUE!      ऐसे झूठ जिनको देख कर आप तुरंत विश्वास कर लेते ...   \n",
       "-0N9r10xb_0  19 नवंबर शनि अमावस्या के अगले दिन बड़ा रविवार ब...   \n",
       "-0WuM6ctLHg  மிரளவைக்கும் 5 நம்பமுடியாத கண்டுபிடிப்புகள் | ...   \n",
       "-0mcgX4ro7I  Bhabi Ji Ghar Par Hain - भाबीजी घर पर हैं - Ep...   \n",
       "...                                                        ...   \n",
       "zykZhNk7BNQ  आज है अमावस्या ।। यह टोटका करते ही शत्रु बर्बा...   \n",
       "zys43i_RKHM  Mogalirekulu | 31st May 2018 | Gemini TVMogali...   \n",
       "zyvYkpoLeSU  Bigg Boss 5 Kannada Winner | Kannada Big Boss ...   \n",
       "zz6Nqy4SM3E  Funny College Scenes ft. Pichi Yakuu | Waranga...   \n",
       "zzcAq02ncAE  ANT-MAN AND THE WASP Trailer # 2 TEASER (NEW 2...   \n",
       "\n",
       "                                                 channel_title  category_id  \\\n",
       "video_id                                                                      \n",
       "#NAME?       Friday PosterJansattaHealth Tips for YouAstroM...        10976   \n",
       "#VALUE!      RahasyaRahasyaRahasyaRahasyaRajshri MarathiRaj...          180   \n",
       "-0N9r10xb_0                       Magical NuskheMagical Nuskhe           52   \n",
       "-0WuM6ctLHg         Kollywood TalkKollywood TalkKollywood Talk           66   \n",
       "-0mcgX4ro7I                                       And TVAnd TV           48   \n",
       "...                                                        ...          ...   \n",
       "zykZhNk7BNQ                                   Om Namoh Narayan           26   \n",
       "zys43i_RKHM                                 Gemini TVGemini TV           48   \n",
       "zyvYkpoLeSU                        Namma KFINamma KFINamma KFI           72   \n",
       "zz6Nqy4SM3E                   Warangal DiariesWarangal Diaries           46   \n",
       "zzcAq02ncAE                                          ONE Media            1   \n",
       "\n",
       "                                                  publish_time  \\\n",
       "video_id                                                         \n",
       "#NAME?       2017-11-13T08:59:27.000Z2017-11-11T09:09:06.00...   \n",
       "#VALUE!      2018-03-08T07:03:27.000Z2018-03-08T07:03:27.00...   \n",
       "-0N9r10xb_0   2017-11-18T14:20:54.000Z2017-11-18T14:20:54.000Z   \n",
       "-0WuM6ctLHg  2018-02-10T08:07:15.000Z2018-02-10T08:07:15.00...   \n",
       "-0mcgX4ro7I   2018-03-15T00:28:23.000Z2018-03-15T00:28:23.000Z   \n",
       "...                                                        ...   \n",
       "zykZhNk7BNQ                           2018-02-15T03:38:56.000Z   \n",
       "zys43i_RKHM   2018-05-31T13:08:26.000Z2018-05-31T13:08:26.000Z   \n",
       "zyvYkpoLeSU  2018-01-28T17:59:20.000Z2018-01-28T17:59:20.00...   \n",
       "zz6Nqy4SM3E   2018-04-16T08:03:55.000Z2018-04-16T08:03:55.000Z   \n",
       "zzcAq02ncAE                           2018-04-30T22:25:33.000Z   \n",
       "\n",
       "                                                          tags      views  \\\n",
       "video_id                                                                    \n",
       "#NAME?       స‌మంత కంట‌త‌డి|\"Samantha became EMOTIONAL @ Sa...  765625280   \n",
       "#VALUE!      myth|\"facts\"|\"top interesting facts\"|\"most int...    1176951   \n",
       "-0N9r10xb_0  19 नवंबर शनि अमावस्या के अगले दिन बड़ा रविवार ब...     204502   \n",
       "-0WuM6ctLHg  amazing invention|\"amazing bike in the world\"|...     823461   \n",
       "-0mcgX4ro7I  and tv|\"&TV\"|\"Bhabhiji Ghar Par Hain\"|\"full ep...     434095   \n",
       "...                                                        ...        ...   \n",
       "zykZhNk7BNQ  Vashikaran|\"Photo se Vashikaran\"|\"Naam Se Vash...      11876   \n",
       "zys43i_RKHM  Gemini TV|\"Reality Show\"|\"Telugu Serials\"|\"Tel...     160420   \n",
       "zyvYkpoLeSU  chandan shetty big boss songs|\"bigg boss kanna...     124966   \n",
       "zz6Nqy4SM3E  warangal diaries|\"latest\"|\"funny\"|\"comedy\"|\"Ba...     261881   \n",
       "zzcAq02ncAE  Cinema|\"Trailer\"|\"Official\"|\"Movie\"|\"Film\"|\"An...    1089236   \n",
       "\n",
       "                likes  dislikes  comment_count  \\\n",
       "video_id                                         \n",
       "#NAME?       17514793    790773        1350883   \n",
       "#VALUE!         41991      1565           2946   \n",
       "-0N9r10xb_0      2442       330             55   \n",
       "-0WuM6ctLHg     11040       417            272   \n",
       "-0mcgX4ro7I      2152       236            139   \n",
       "...               ...       ...            ...   \n",
       "zykZhNk7BNQ       334        27              0   \n",
       "zys43i_RKHM      1627       122            217   \n",
       "zyvYkpoLeSU       649       105             80   \n",
       "zz6Nqy4SM3E     16575       489           2924   \n",
       "zzcAq02ncAE      9928       416            577   \n",
       "\n",
       "                                                thumbnail_link  \\\n",
       "video_id                                                         \n",
       "#NAME?       https://i.ytimg.com/vi/-b0ww7L2MGU/default.jpg...   \n",
       "#VALUE!      https://i.ytimg.com/vi/-L2-A0Saw30/default.jpg...   \n",
       "-0N9r10xb_0  https://i.ytimg.com/vi/-0N9r10xb_0/default.jpg...   \n",
       "-0WuM6ctLHg  https://i.ytimg.com/vi/-0WuM6ctLHg/default.jpg...   \n",
       "-0mcgX4ro7I  https://i.ytimg.com/vi/-0mcgX4ro7I/default.jpg...   \n",
       "...                                                        ...   \n",
       "zykZhNk7BNQ     https://i.ytimg.com/vi/zykZhNk7BNQ/default.jpg   \n",
       "zys43i_RKHM  https://i.ytimg.com/vi/zys43i_RKHM/default.jpg...   \n",
       "zyvYkpoLeSU  https://i.ytimg.com/vi/zyvYkpoLeSU/default.jpg...   \n",
       "zz6Nqy4SM3E  https://i.ytimg.com/vi/zz6Nqy4SM3E/default.jpg...   \n",
       "zzcAq02ncAE     https://i.ytimg.com/vi/zzcAq02ncAE/default.jpg   \n",
       "\n",
       "             comments_disabled  ratings_disabled  video_error_or_removed  \\\n",
       "video_id                                                                   \n",
       "#NAME?                      20                19                       0   \n",
       "#VALUE!                      0                 0                       0   \n",
       "-0N9r10xb_0                  0                 0                       0   \n",
       "-0WuM6ctLHg                  0                 0                       0   \n",
       "-0mcgX4ro7I                  0                 0                       0   \n",
       "...                        ...               ...                     ...   \n",
       "zykZhNk7BNQ                  1                 0                       0   \n",
       "zys43i_RKHM                  0                 0                       0   \n",
       "zyvYkpoLeSU                  0                 0                       0   \n",
       "zz6Nqy4SM3E                  0                 0                       0   \n",
       "zzcAq02ncAE                  0                 0                       0   \n",
       "\n",
       "                                                   description  title_lenght  \n",
       "video_id                                                                      \n",
       "#NAME?       స‌మంత కంట‌త‌డి | Samantha became EMOTIONAL @ S...         37331  \n",
       "#VALUE!      FOLLOW US ON FACEBOOK : https://goo.gl/UhDWrn\\...           636  \n",
       "-0N9r10xb_0  19 नवंबर शनि अमावस्या के अगले दिन बड़ा रविवार ब...           200  \n",
       "-0WuM6ctLHg  மிரளவைக்கும் 5 நம்பமுடியாத கண்டுபிடிப்புகள் | ...           267  \n",
       "-0mcgX4ro7I  To watch FULL episode of Bhabi Ji Ghar Par Hai...           168  \n",
       "...                                                        ...           ...  \n",
       "zykZhNk7BNQ  आज है अमावस्या ।। यह टोटका करते ही शत्रु बर्बा...            96  \n",
       "zys43i_RKHM  Mogalirekulu is a family drama show. The story...            80  \n",
       "zyvYkpoLeSU  Bigg Boss 5 Kannada Winner Kannada Big Boss Wi...           270  \n",
       "zz6Nqy4SM3E  (Earphone Use Is Recommended)!!\\nTypes And Kin...           110  \n",
       "zzcAq02ncAE  ANT-MAN AND THE WASP Trailer # 2 TEASER (NEW 2...            79  \n",
       "\n",
       "[16307 rows x 16 columns]"
      ]
     },
     "execution_count": 24,
     "metadata": {},
     "output_type": "execute_result"
    }
   ],
   "source": [
    "df.groupby('video_id').sum()"
   ]
  },
  {
   "cell_type": "markdown",
   "id": "ed0e8ee3",
   "metadata": {},
   "source": [
    "## Videos got removed or had errors"
   ]
  },
  {
   "cell_type": "code",
   "execution_count": 25,
   "id": "eee35e69",
   "metadata": {},
   "outputs": [
    {
     "data": {
      "text/plain": [
       "video_error_or_removed\n",
       "False    37341\n",
       "True        11\n",
       "Name: count, dtype: int64"
      ]
     },
     "execution_count": 25,
     "metadata": {},
     "output_type": "execute_result"
    }
   ],
   "source": [
    "df['video_error_or_removed'].value_counts()"
   ]
  },
  {
   "cell_type": "code",
   "execution_count": 26,
   "id": "3aa9f6ac",
   "metadata": {},
   "outputs": [
    {
     "data": {
      "text/plain": [
       "Text(0.5, 1.0, 'Video Error or Removed')"
      ]
     },
     "execution_count": 26,
     "metadata": {},
     "output_type": "execute_result"
    },
    {
     "data": {
      "image/png": "[encoded data removed]",
      "text/plain": [
       "<Figure size 640x480 with 1 Axes>"
      ]
     },
     "metadata": {},
     "output_type": "display_data"
    }
   ],
   "source": [
    "value_counts = df[\"video_error_or_removed\"].value_counts().to_dict()\n",
    "plt.pie([value_counts[False], value_counts[True]], labels=['No', 'Yes'], colors=['yellow', 'black'], textprops={'color': 'black','size':15})\n",
    "plt.axis('equal')\n",
    "plt.title('Video Error or Removed')\n"
   ]
  },
  {
   "cell_type": "markdown",
   "id": "d87ec5c2",
   "metadata": {},
   "source": [
    "## Percentage of videos that have comments disabled"
   ]
  },
  {
   "cell_type": "code",
   "execution_count": 27,
   "id": "7dabee46",
   "metadata": {},
   "outputs": [
    {
     "data": {
      "text/plain": [
       "comments_disabled\n",
       "False    36148\n",
       "True      1204\n",
       "Name: count, dtype: int64"
      ]
     },
     "execution_count": 27,
     "metadata": {},
     "output_type": "execute_result"
    }
   ],
   "source": [
    "df['comments_disabled'].value_counts()"
   ]
  },
  {
   "cell_type": "code",
   "execution_count": 28,
   "id": "d98c0488",
   "metadata": {},
   "outputs": [
    {
     "data": {
      "text/plain": [
       "Text(0.5, 1.0, 'Comments disabled')"
      ]
     },
     "execution_count": 28,
     "metadata": {},
     "output_type": "execute_result"
    },
    {
     "data": {
      "image/png": "[encoded data removed]",
      "text/plain": [
       "<Figure size 640x480 with 1 Axes>"
      ]
     },
     "metadata": {},
     "output_type": "display_data"
    }
   ],
   "source": [
    "value_counts = df[\"comments_disabled\"].value_counts().to_dict()\n",
    "plt.pie([value_counts[False], value_counts[True]], labels=['No', 'Yes'], colors=['yellow', 'black'], textprops={'color': 'black','size':15})\n",
    "plt.axis('equal')\n",
    "plt.title('Comments disabled')\n"
   ]
  },
  {
   "cell_type": "markdown",
   "id": "3769fef8",
   "metadata": {},
   "source": [
    "## Percentage of videos that have Ratings disabled"
   ]
  },
  {
   "cell_type": "code",
   "execution_count": 29,
   "id": "8ce80c36",
   "metadata": {},
   "outputs": [
    {
     "data": {
      "text/plain": [
       "ratings_disabled\n",
       "False    36571\n",
       "True       781\n",
       "Name: count, dtype: int64"
      ]
     },
     "execution_count": 29,
     "metadata": {},
     "output_type": "execute_result"
    }
   ],
   "source": [
    "df['ratings_disabled'].value_counts()"
   ]
  },
  {
   "cell_type": "code",
   "execution_count": 30,
   "id": "e0ed0e57",
   "metadata": {},
   "outputs": [
    {
     "data": {
      "text/plain": [
       "Text(0.5, 1.0, 'ratings_disabled')"
      ]
     },
     "execution_count": 30,
     "metadata": {},
     "output_type": "execute_result"
    },
    {
     "data": {
      "image/png": "[encoded data removed]",
      "text/plain": [
       "<Figure size 640x480 with 1 Axes>"
      ]
     },
     "metadata": {},
     "output_type": "display_data"
    }
   ],
   "source": [
    "value_counts = df[\"ratings_disabled\"].value_counts().to_dict()\n",
    "plt.pie([value_counts[False], value_counts[True]], labels=['No', 'Yes'], colors=['yellow', 'black'], textprops={'color': 'black','size':15})\n",
    "plt.axis('equal')\n",
    "plt.title('ratings_disabled')\n"
   ]
  },
  {
   "cell_type": "markdown",
   "id": "91cf0d15",
   "metadata": {},
   "source": [
    "## Videos have both comments and ratings disabled"
   ]
  },
  {
   "cell_type": "code",
   "execution_count": 31,
   "id": "b7200c90",
   "metadata": {},
   "outputs": [
    {
     "data": {
      "text/plain": [
       "588"
      ]
     },
     "execution_count": 31,
     "metadata": {},
     "output_type": "execute_result"
    }
   ],
   "source": [
    "len(df[(df['comments_disabled']==True)&(df['ratings_disabled']==True).index])"
   ]
  }
 ],
 "metadata": {
  "kernelspec": {
   "display_name": "Python 3 (ipykernel)",
   "language": "python",
   "name": "python3"
  },
  "language_info": {
   "codemirror_mode": {
    "name": "ipython",
    "version": 3
   },
   "file_extension": ".py",
   "mimetype": "text/x-python",
   "name": "python",
   "nbconvert_exporter": "python",
   "pygments_lexer": "ipython3",
   "version": "3.11.4"
  }
 },
 "nbformat": 4,
 "nbformat_minor": 5
}
